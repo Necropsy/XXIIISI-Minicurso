{
 "cells": [
  {
   "cell_type": "markdown",
   "metadata": {},
   "source": [
    "# Markov Chains\n",
    "\n",
    "Modelo estocástico que descreve uma possivel sequência de eventos ocorrer, onde a probabilidade de cada evento depende apenas do estado observado no evento anterior.\n",
    "\n",
    "## Exemplo:"
   ]
  },
  {
   "cell_type": "code",
   "execution_count": 8,
   "metadata": {},
   "outputs": [
    {
     "name": "stdout",
     "output_type": "stream",
     "text": [
      "Probabilidade de iniciar com sleep e terminar com Run= 62.6\n"
     ]
    },
    {
     "data": {
      "text/plain": [
       "['Sleep', 'Sleep', 'Run']"
      ]
     },
     "execution_count": 8,
     "metadata": {},
     "output_type": "execute_result"
    }
   ],
   "source": [
    "import numpy as np\n",
    "import random as rm\n",
    "\n",
    "# Estados\n",
    "es = [\"Sleep\", \"Icecream\", \"Run\"]\n",
    "\n",
    "# Sequências possíveis\n",
    "transitionName = [[\"SS\", \"SR\", \"SI\"], [\"RS\", \"RR\", \"RI\"], [\"IS\", \"IR\", \"II\"]]\n",
    "\n",
    "# Matriz de probabilidade\n",
    "transitionMatrix = [[0.2,0.6,0.2],[0.1,0.6,0.3],[0.2,0.7,0.1]]\n",
    "\n",
    "def activity_forecast(days):\n",
    "    # Estado Inicial\n",
    "    activityToday = \"Sleep\"\n",
    "    #print(\"Start state: \" + activityToday)\n",
    "    \n",
    "    activityList = [activityToday]\n",
    "    i = 0\n",
    "    # Calcular a probabilidade e activitylist\n",
    "    prob = 1\n",
    "    while i != days:\n",
    "        if activityToday == \"Sleep\":\n",
    "            change = np.random.choice(transitionName[0], replace = True, p = transitionMatrix[0])\n",
    "            if change == \"SS\":\n",
    "                prob = prob * 0.2\n",
    "                activityList.append(\"Sleep\")\n",
    "                pass\n",
    "            elif change == \"SR\":\n",
    "                prob = prob * 0.6\n",
    "                activityToday = \"Run\"\n",
    "                activityList.append(\"Run\")\n",
    "            else:\n",
    "                prob = prob * 0.2\n",
    "                activityToday = \"Icecream\"\n",
    "                activityList.append(\"Icecream\")\n",
    "        elif activityToday == \"Run\":\n",
    "            change = np.random.choice(transitionName[1], replace = True, p = transitionMatrix[1])\n",
    "            if change == \"RR\":\n",
    "                prob = prob * 0.5\n",
    "                activityList.append(\"Run\")\n",
    "                pass\n",
    "            elif change == \"RS\":\n",
    "                prob = prob * 0.2\n",
    "                activityToday = \"Sleep\"\n",
    "                activityList.append(\"Sleep\")\n",
    "            else:\n",
    "                prob = prob * 0.3\n",
    "                activityToday = \"Icecream\"\n",
    "                activityList.append(\"Icecream\")\n",
    "        elif activityToday == \"Icecream\":\n",
    "            change = np.random.choice(transitionName[2], replace = True, p = transitionMatrix[2])\n",
    "            if change == \"II\":\n",
    "                prob = prob * 0.1\n",
    "                activityList.append(\"Icecream\")\n",
    "                pass\n",
    "            elif change == \"IS\":\n",
    "                prob = prob * 0.2\n",
    "                activityToday = \"Sleep\"\n",
    "                activityList.append(\"Sleep\")\n",
    "            else:\n",
    "                prob = prob * 0.7\n",
    "                activityToday = \"Run\"\n",
    "                activityList.append(\"Run\")\n",
    "                \n",
    "        i += 1\n",
    "    return activityList\n",
    "\n",
    "list_activity = []\n",
    "count = 0\n",
    "\n",
    "for interations in range(1, 10000):\n",
    "    list_activity.append(activity_forecast(2))\n",
    "    \n",
    "#print(list_activity)\n",
    "\n",
    "for smaller_list in list_activity:\n",
    "    if(smaller_list[2] == \"Run\"):\n",
    "        count += 1\n",
    "    \n",
    "# Probabilidade de iniciar com sleep e terminar com Run\n",
    "percentage = (count/10000) * 100\n",
    "print(\"Probabilidade de iniciar com sleep e terminar com Run= \" + str(percentage))\n",
    "    #print(\"Possible states: \" + str(activityList))\n",
    "    #print(\"End state after \" + str(days) + \" days: \" + activityToday)\n",
    "    #print(\"Probability of the possible =sequence of states: \" + str(prob))\n",
    "\n",
    "    # Function that forecast the possible state for the next 2 days\n",
    "activity_forecast(2)"
   ]
  },
  {
   "cell_type": "markdown",
   "metadata": {},
   "source": [
    "# Temas Abordados:\n",
    "\n",
    "Assuntos abordados:\n",
    "\n",
    "## Regresão Linear\n",
    "\n",
    "É uma equação para se estimar o valor esperado de uma variável, dados os valores de outras variavéis.\n",
    "\n",
    "## K-Nearest Neighbors\n",
    "\n",
    "Método de classificação e regressão que consiste em verificar a classe dos k mais próximos objetos do objeto a ser classificado.\n",
    "\n",
    "## Decision Tree\n",
    "\n",
    "Modelos estatistícos que utilizam um treinamento supervisionado para a classificação e previsão de dados.\n",
    "\n",
    "## Random Forest\n",
    "\n",
    "Constroe várias árvores de decisão no momento do treinamento.\n",
    "\n",
    "## Regressão Logística\n",
    "\n",
    "Produzir a partir de um conjunto de observações, um modelo que permita a predição de valores tomados por uma variável categórica.\n",
    "\n",
    "# Demonstrações:\n",
    "\n",
    "Arquivos na pasta CreditCard."
   ]
  }
 ],
 "metadata": {
  "kernelspec": {
   "display_name": "Python 3",
   "language": "python",
   "name": "python3"
  },
  "language_info": {
   "codemirror_mode": {
    "name": "ipython",
    "version": 3
   },
   "file_extension": ".py",
   "mimetype": "text/x-python",
   "name": "python",
   "nbconvert_exporter": "python",
   "pygments_lexer": "ipython3",
   "version": "3.6.4"
  }
 },
 "nbformat": 4,
 "nbformat_minor": 2
}
